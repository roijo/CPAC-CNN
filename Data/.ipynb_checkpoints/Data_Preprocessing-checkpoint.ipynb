{
 "cells": [
  {
   "cell_type": "code",
   "execution_count": null,
   "metadata": {
    "collapsed": true
   },
   "outputs": [],
   "source": [
    "import pandas as pd\n",
    "import numpy as np"
   ]
  },
  {
   "cell_type": "code",
   "execution_count": null,
   "metadata": {
    "collapsed": true
   },
   "outputs": [],
   "source": [
    "import mnist"
   ]
  },
  {
   "cell_type": "code",
   "execution_count": null,
   "metadata": {
    "collapsed": true
   },
   "outputs": [],
   "source": [
    "train = mnist.train_labels()"
   ]
  },
  {
   "cell_type": "code",
   "execution_count": null,
   "metadata": {
    "collapsed": true
   },
   "outputs": [],
   "source": [
    "train.shape"
   ]
  },
  {
   "cell_type": "code",
   "execution_count": null,
   "metadata": {
    "collapsed": true
   },
   "outputs": [],
   "source": [
    "len(train)"
   ]
  },
  {
   "cell_type": "code",
   "execution_count": null,
   "metadata": {
    "collapsed": true
   },
   "outputs": [],
   "source": [
    "dataset = np.array(pd.read_csv('/home/yinanw/yinan/Tensorized_CNN/Data/severstal-steel-defect-detection/train.csv'))"
   ]
  },
  {
   "cell_type": "code",
   "execution_count": null,
   "metadata": {
    "collapsed": true
   },
   "outputs": [],
   "source": [
    "dataset.shape"
   ]
  },
  {
   "cell_type": "code",
   "execution_count": null,
   "metadata": {
    "collapsed": true
   },
   "outputs": [],
   "source": [
    "name_label = {}\n",
    "N,_ = np.shape(dataset)\n",
    "for i in range(N):\n",
    "    name_label[dataset[i,0]] = []\n",
    "for i in range(N):\n",
    "    name_label[dataset[i,0]].append(dataset[i,1])"
   ]
  },
  {
   "cell_type": "code",
   "execution_count": null,
   "metadata": {
    "collapsed": true
   },
   "outputs": [],
   "source": [
    "len(name_label)"
   ]
  },
  {
   "cell_type": "code",
   "execution_count": null,
   "metadata": {
    "collapsed": true
   },
   "outputs": [],
   "source": [
    "data_filtered = {}\n",
    "\n",
    "for key in name_label.keys():\n",
    "    if len(name_label[key]) == 1:\n",
    "        data_filtered[key] = name_label[key][0]"
   ]
  },
  {
   "cell_type": "code",
   "execution_count": null,
   "metadata": {
    "collapsed": true
   },
   "outputs": [],
   "source": [
    "print(len(data_filtered))"
   ]
  },
  {
   "cell_type": "code",
   "execution_count": null,
   "metadata": {
    "collapsed": true
   },
   "outputs": [],
   "source": [
    "num_1 = 0\n",
    "num_2 = 0\n",
    "num_3 = 0\n",
    "num_4 = 0\n",
    "for key in data_filtered.keys():\n",
    "    if data_filtered[key] == 1:\n",
    "        num_1 += 1\n",
    "    elif data_filtered[key] == 2:\n",
    "        num_2 += 1\n",
    "    elif data_filtered[key] == 3:\n",
    "        num_3 += 1\n",
    "    elif data_filtered[key] == 4:\n",
    "        num_4 += 1"
   ]
  },
  {
   "cell_type": "code",
   "execution_count": null,
   "metadata": {
    "collapsed": true
   },
   "outputs": [],
   "source": [
    "print(num_1, num_2, num_3, num_4)"
   ]
  },
  {
   "cell_type": "code",
   "execution_count": null,
   "metadata": {
    "collapsed": true
   },
   "outputs": [],
   "source": [
    "import cv2\n",
    "import skimage"
   ]
  },
  {
   "cell_type": "code",
   "execution_count": null,
   "metadata": {
    "collapsed": true
   },
   "outputs": [],
   "source": [
    "X = []\n",
    "Y = []\n",
    "for key in data_filtered.keys():\n",
    "    image_name = 'severstal-steel-defect-detection/train_images/' + key\n",
    "    img = cv2.imread(image_name)\n",
    "#    img = cv2.cvtColor(img, cv2.COLOR_BGR2RGB)\n",
    "    gray_image = cv2.cvtColor(img, cv2.COLOR_BGR2GRAY)\n",
    "    X.append(gray_image)\n",
    "    Y.append(int(1))"
   ]
  },
  {
   "cell_type": "code",
   "execution_count": null,
   "metadata": {
    "collapsed": true
   },
   "outputs": [],
   "source": [
    "X = np.array(X)\n",
    "Y = np.array(Y)"
   ]
  },
  {
   "cell_type": "code",
   "execution_count": null,
   "metadata": {
    "collapsed": true
   },
   "outputs": [],
   "source": [
    "X.max()"
   ]
  },
  {
   "cell_type": "code",
   "execution_count": null,
   "metadata": {
    "collapsed": true
   },
   "outputs": [],
   "source": [
    "import matplotlib.pyplot as plt"
   ]
  },
  {
   "cell_type": "code",
   "execution_count": null,
   "metadata": {
    "collapsed": true
   },
   "outputs": [],
   "source": [
    "index=0"
   ]
  },
  {
   "cell_type": "code",
   "execution_count": null,
   "metadata": {
    "collapsed": true
   },
   "outputs": [],
   "source": [
    "plt.imshow(X[index,:,:], cmap='gray')"
   ]
  },
  {
   "cell_type": "code",
   "execution_count": null,
   "metadata": {
    "collapsed": true
   },
   "outputs": [],
   "source": [
    "Y[index]"
   ]
  },
  {
   "cell_type": "code",
   "execution_count": null,
   "metadata": {
    "collapsed": true
   },
   "outputs": [],
   "source": [
    "X.shape"
   ]
  },
  {
   "cell_type": "code",
   "execution_count": null,
   "metadata": {
    "collapsed": true
   },
   "outputs": [],
   "source": [
    "import os\n",
    "all_files = os.listdir('severstal-steel-defect-detection/train_images')"
   ]
  },
  {
   "cell_type": "code",
   "execution_count": null,
   "metadata": {
    "collapsed": true
   },
   "outputs": [],
   "source": [
    "No_defect_file = []\n",
    "for file in all_files:\n",
    "    if file not in data_filtered.keys():\n",
    "        No_defect_file.append(file)\n",
    "        "
   ]
  },
  {
   "cell_type": "code",
   "execution_count": null,
   "metadata": {
    "collapsed": true
   },
   "outputs": [],
   "source": [
    "len(No_defect_file)"
   ]
  },
  {
   "cell_type": "code",
   "execution_count": null,
   "metadata": {
    "collapsed": true
   },
   "outputs": [],
   "source": [
    "len(No_defect_file) + X.shape[0] == len(all_files)"
   ]
  },
  {
   "cell_type": "code",
   "execution_count": null,
   "metadata": {
    "collapsed": true
   },
   "outputs": [],
   "source": [
    "X_0 = []\n",
    "Y_0 = []\n",
    "for file in No_defect_file:\n",
    "    image_name = 'severstal-steel-defect-detection/train_images/' + key\n",
    "    img = cv2.imread(image_name)\n",
    "#    img = cv2.cvtColor(img, cv2.COLOR_BGR2RGB)\n",
    "    gray_image = cv2.cvtColor(img, cv2.COLOR_BGR2GRAY)\n",
    "    X_0.append(gray_image)\n",
    "    Y_0.append(int(0))"
   ]
  },
  {
   "cell_type": "code",
   "execution_count": null,
   "metadata": {
    "collapsed": true
   },
   "outputs": [],
   "source": [
    "X_0 = np.array(X_0)\n",
    "Y_0 = np.array(Y_0)"
   ]
  },
  {
   "cell_type": "code",
   "execution_count": null,
   "metadata": {
    "collapsed": true
   },
   "outputs": [],
   "source": [
    "plt.imshow(X_0[index,:,:], cmap='gray')"
   ]
  },
  {
   "cell_type": "code",
   "execution_count": null,
   "metadata": {
    "collapsed": true
   },
   "outputs": [],
   "source": [
    "Y_0[index]"
   ]
  },
  {
   "cell_type": "code",
   "execution_count": null,
   "metadata": {
    "collapsed": true
   },
   "outputs": [],
   "source": [
    "defect_file = \"severstal-steel-defect-detection/defect_gray.npz\"\n",
    "no_defect_file = \"severstal-steel-defect-detection/nodefect_gray.npz\""
   ]
  },
  {
   "cell_type": "code",
   "execution_count": null,
   "metadata": {
    "collapsed": true
   },
   "outputs": [],
   "source": [
    "np.savez(defect_file, x=X, y=Y)\n",
    "np.savez(no_defect_file, x=X_0, y=Y_0)"
   ]
  },
  {
   "cell_type": "code",
   "execution_count": null,
   "metadata": {
    "collapsed": true
   },
   "outputs": [],
   "source": [
    "import numpy as np"
   ]
  },
  {
   "cell_type": "code",
   "execution_count": null,
   "metadata": {
    "collapsed": true
   },
   "outputs": [],
   "source": [
    "defect = np.load(defect_file)"
   ]
  },
  {
   "cell_type": "code",
   "execution_count": null,
   "metadata": {
    "collapsed": true
   },
   "outputs": [],
   "source": [
    "X = defect['x']"
   ]
  },
  {
   "cell_type": "code",
   "execution_count": null,
   "metadata": {
    "collapsed": true
   },
   "outputs": [],
   "source": [
    "X.shape"
   ]
  },
  {
   "cell_type": "code",
   "execution_count": null,
   "metadata": {
    "collapsed": true
   },
   "outputs": [],
   "source": [
    "Y = defect['y']"
   ]
  },
  {
   "cell_type": "code",
   "execution_count": null,
   "metadata": {
    "collapsed": true
   },
   "outputs": [],
   "source": [
    "Y.shape"
   ]
  },
  {
   "cell_type": "code",
   "execution_count": 4,
   "metadata": {
    "collapsed": true
   },
   "outputs": [],
   "source": [
    "import cv2\n",
    "import numpy as np\n",
    "np.random.seed(48)\n",
    "import os\n",
    "image_name = '/home/yinanw/yinan/Tensorized_CNN/Data/Magnetic-tile-defect-datasets./MT_Crack/Imgs/exp1_num_249594.png'\n",
    "img = cv2.imread(image_name, cv2.IMREAD_GRAYSCALE)"
   ]
  },
  {
   "cell_type": "code",
   "execution_count": 5,
   "metadata": {
    "collapsed": true
   },
   "outputs": [],
   "source": [
    "all_files = os.listdir('/home/yinanw/yinan/Tensorized_CNN/Data/Magnetic-tile-defect-datasets./MT_Free/Imgs')[:150]"
   ]
  },
  {
   "cell_type": "code",
   "execution_count": 6,
   "metadata": {},
   "outputs": [
    {
     "data": {
      "text/plain": [
       "['exp1_num_114376.png',\n",
       " 'exp5_num_54191.png',\n",
       " 'exp1_num_71177.png',\n",
       " 'exp5_num_255775.png',\n",
       " 'exp5_num_338911.png',\n",
       " 'exp1_num_319420.png',\n",
       " 'exp2_num_193126.png',\n",
       " 'exp5_num_308863.png',\n",
       " 'exp2_num_304307.png',\n",
       " 'exp1_num_37243.png',\n",
       " 'exp1_num_11276.png',\n",
       " 'exp5_num_262271.png',\n",
       " 'exp6_num_308897.png',\n",
       " 'exp4_num_317600.png',\n",
       " 'exp4_num_266329.png',\n",
       " 'exp5_num_304340.png',\n",
       " 'exp4_num_342904.png',\n",
       " 'exp6_num_3620.png',\n",
       " 'exp4_num_34134.png',\n",
       " 'exp6_num_192263.png',\n",
       " 'exp5_num_128134.png',\n",
       " 'exp2_num_331946.png',\n",
       " 'exp2_num_304688.png',\n",
       " 'exp2_num_16532.png',\n",
       " 'exp1_num_193104.png',\n",
       " 'exp4_num_75132.png',\n",
       " 'exp3_num_269668.png',\n",
       " 'exp4_num_7911.png',\n",
       " 'exp2_num_320822.png',\n",
       " 'exp3_num_144210.png',\n",
       " 'exp2_num_129608.png',\n",
       " 'exp1_num_280205.png',\n",
       " 'exp1_num_39412.png',\n",
       " 'exp5_num_13636.png',\n",
       " 'exp5_num_16596.png',\n",
       " 'exp1_num_316333.png',\n",
       " 'exp4_num_261992.png',\n",
       " 'exp6_num_319398.png',\n",
       " 'exp3_num_68398.png',\n",
       " 'exp5_num_937.png',\n",
       " 'exp5_num_240124.png',\n",
       " 'exp6_num_319512.png',\n",
       " 'exp4_num_279133.png',\n",
       " 'exp2_num_290068.png',\n",
       " 'exp5_num_154637.png',\n",
       " 'exp4_num_338897.png',\n",
       " 'exp4_num_889.png',\n",
       " 'exp1_num_359448.png',\n",
       " 'exp4_num_10227.png',\n",
       " 'exp5_num_344604.png',\n",
       " 'exp5_num_52740.png',\n",
       " 'exp5_num_358149.png',\n",
       " 'exp2_num_70514.png',\n",
       " 'exp6_num_301599.png',\n",
       " 'exp3_num_114419.png',\n",
       " 'exp1_num_69803.png',\n",
       " 'exp2_num_54925.png',\n",
       " 'exp2_num_29493.png',\n",
       " 'exp6_num_293912.png',\n",
       " 'exp2_num_358960.png',\n",
       " 'exp2_num_834.png',\n",
       " 'exp1_num_94899.png',\n",
       " 'exp2_num_270577.png',\n",
       " 'exp3_num_94938.png',\n",
       " 'exp2_num_178482.png',\n",
       " 'exp2_num_261961.png',\n",
       " 'exp1_num_279090.png',\n",
       " 'exp5_num_326973.png',\n",
       " 'exp1_num_276985.png',\n",
       " 'exp4_num_329260.png',\n",
       " 'exp4_num_326627.png',\n",
       " 'exp1_num_311322.png',\n",
       " 'exp5_num_326642.png',\n",
       " 'exp1_num_106151.png',\n",
       " 'exp2_num_71201.png',\n",
       " 'exp5_num_117033.png',\n",
       " 'exp2_num_10410.png',\n",
       " 'exp6_num_148035.png',\n",
       " 'exp4_num_3554.png',\n",
       " 'exp1_num_16503.png',\n",
       " 'exp2_num_39430.png',\n",
       " 'exp6_num_258043.png',\n",
       " 'exp3_num_270803.png',\n",
       " 'exp5_num_144247.png',\n",
       " 'exp3_num_11304.png',\n",
       " 'exp5_num_277059.png',\n",
       " 'exp5_num_263887.png',\n",
       " 'exp6_num_275757.png',\n",
       " 'exp3_num_349856.png',\n",
       " 'exp1_num_257103.png',\n",
       " 'exp6_num_157877.png',\n",
       " 'exp2_num_126325.png',\n",
       " 'exp6_num_9196.png',\n",
       " 'exp2_num_61324.png',\n",
       " 'exp4_num_69864.png',\n",
       " 'exp6_num_117068.png',\n",
       " 'exp3_num_331190.png',\n",
       " 'exp2_num_75106.png',\n",
       " 'exp2_num_148952.png',\n",
       " 'exp5_num_126855.png',\n",
       " 'exp3_num_10945.png',\n",
       " 'exp2_num_319440.png',\n",
       " 'exp2_num_311334.png',\n",
       " 'exp1_num_174647.png',\n",
       " 'exp4_num_266844.png',\n",
       " 'exp2_num_282899.png',\n",
       " 'exp5_num_157829.png',\n",
       " 'exp6_num_10790.png',\n",
       " 'exp6_num_349930.png',\n",
       " 'exp2_num_323339.png',\n",
       " 'exp6_num_255822.png',\n",
       " 'exp1_num_326904.png',\n",
       " 'exp3_num_126339.png',\n",
       " 'exp1_num_266790.png',\n",
       " 'exp2_num_354402.png',\n",
       " 'exp5_num_3899.png',\n",
       " 'exp5_num_278628.png',\n",
       " 'exp6_num_38098.png',\n",
       " 'exp5_num_174768.png',\n",
       " 'exp2_num_321452.png',\n",
       " 'exp1_num_2038.png',\n",
       " 'exp3_num_351463.png',\n",
       " 'exp1_num_349824.png',\n",
       " 'exp6_num_43955.png',\n",
       " 'exp3_num_306622.png',\n",
       " 'exp6_num_154721.png',\n",
       " 'exp4_num_147986.png',\n",
       " 'exp3_num_319456.png',\n",
       " 'exp5_num_187612.png',\n",
       " 'exp4_num_331207.png',\n",
       " 'exp5_num_293876.png',\n",
       " 'exp2_num_245780.png',\n",
       " 'exp1_num_293709.png',\n",
       " 'exp2_num_147954.png',\n",
       " 'exp3_num_13568.png',\n",
       " 'exp6_num_138723.png',\n",
       " 'exp2_num_317576.png',\n",
       " 'exp5_num_262018.png',\n",
       " 'exp2_num_37263.png',\n",
       " 'exp3_num_263864.png',\n",
       " 'exp1_num_262216.png',\n",
       " 'exp5_num_37319.png',\n",
       " 'exp5_num_275722.png',\n",
       " 'exp4_num_284889.png',\n",
       " 'exp3_num_319713.png',\n",
       " 'exp6_num_1012.png',\n",
       " 'exp1_num_65001.png',\n",
       " 'exp2_num_65017.png',\n",
       " 'exp2_num_127664.png',\n",
       " 'exp4_num_260976.png']"
      ]
     },
     "execution_count": 6,
     "metadata": {},
     "output_type": "execute_result"
    }
   ],
   "source": [
    "all_files"
   ]
  },
  {
   "cell_type": "code",
   "execution_count": null,
   "metadata": {
    "collapsed": true
   },
   "outputs": [],
   "source": [
    "flipped_img = np.fliplr(img)"
   ]
  },
  {
   "cell_type": "code",
   "execution_count": null,
   "metadata": {
    "collapsed": true
   },
   "outputs": [],
   "source": [
    "rotate_img = np.rot90(img)"
   ]
  },
  {
   "cell_type": "code",
   "execution_count": null,
   "metadata": {
    "collapsed": true
   },
   "outputs": [],
   "source": [
    "np.max(flipped_img - rotate_img)"
   ]
  },
  {
   "cell_type": "code",
   "execution_count": null,
   "metadata": {
    "collapsed": true
   },
   "outputs": [],
   "source": [
    "img_new = cv2.resize(img, (50,50), interpolation = cv2.INTER_AREA)"
   ]
  },
  {
   "cell_type": "code",
   "execution_count": null,
   "metadata": {
    "collapsed": true
   },
   "outputs": [],
   "source": [
    "import matplotlib.pyplot as plt"
   ]
  },
  {
   "cell_type": "code",
   "execution_count": null,
   "metadata": {
    "collapsed": true
   },
   "outputs": [],
   "source": [
    "plt.imshow(img_new, cmap='gray')"
   ]
  },
  {
   "cell_type": "code",
   "execution_count": null,
   "metadata": {
    "collapsed": true
   },
   "outputs": [],
   "source": [
    "plt.imshow(img, cmap='gray')"
   ]
  },
  {
   "cell_type": "code",
   "execution_count": 1,
   "metadata": {
    "collapsed": true
   },
   "outputs": [],
   "source": [
    "import numpy as np\n",
    "#import cupy as np\n",
    "import pandas as pd\n",
    "import cv2\n",
    "import os"
   ]
  },
  {
   "cell_type": "code",
   "execution_count": null,
   "metadata": {
    "collapsed": true
   },
   "outputs": [],
   "source": [
    "def load_data_Neu_Multi(data_root, data_root_out, size):           \n",
    "    \n",
    "    folders = [\"CR\", \"IN\", \"PA\", \"PS\", \"RS\", \"SC\"]\n",
    "    X = []\n",
    "    Y = []\n",
    "    \n",
    "    n = -1\n",
    "    for i in range(len(folders)):\n",
    "        image_root = data_root + folders[i] + '/' + 'Imgs' + '/'\n",
    "        all_files = os.listdir(image_root)[:150]\n",
    "        out_root = data_root_out + folders[i] + '/'\n",
    "        \n",
    "        for file in all_files:\n",
    "            image_name = image_root + file\n",
    "            img = cv2.imread(image_name, cv2.IMREAD_GRAYSCALE)\n",
    "            img_new = cv2.resize(img, (int(size),int(size)), interpolation = cv2.INTER_NEAREST)\n",
    "            n += 1\n",
    "            outfile = out_root + str(n) + '.png'\n",
    "            cv2.imwrite(outfile, img_new)\n",
    "            if i == 2:\n",
    "                outfile = out_root + str(n) + 'flip' + '.png'\n",
    "                cv2.imwrite(outfile, np.fliplr(img_new))\n",
    "            elif i == 3:\n",
    "                outfile = out_root + str(n) + 'flip' + '.png'\n",
    "                cv2.imwrite(outfile, np.fliplr(img_new))\n",
    "                outfile = out_root + str(n) + 'rota' + '.png'\n",
    "                cv2.imwrite(outfile, np.rot90(img_new))"
   ]
  },
  {
   "cell_type": "code",
   "execution_count": 2,
   "metadata": {
    "collapsed": true
   },
   "outputs": [],
   "source": [
    "def load_data_Meg_Multi(data_root, data_root_out, size):           \n",
    "    \n",
    "    folders = [\"MT_Blowhole\", \"MT_Break\", \"MT_Crack\", \"MT_Fray\", \"MT_Uneven\", \"MT_Free\"]\n",
    "    X = []\n",
    "    Y = []\n",
    "    \n",
    "    n = -1\n",
    "    for i in range(len(folders)):\n",
    "        image_root = data_root + folders[i] + '/' + 'Imgs' + '/'\n",
    "        all_files = os.listdir(image_root)[:150]\n",
    "        out_root = data_root_out + folders[i] + '/'\n",
    "        \n",
    "        for file in all_files:\n",
    "            image_name = image_root + file\n",
    "            img = cv2.imread(image_name, cv2.IMREAD_GRAYSCALE)\n",
    "            img_new = cv2.resize(img, (int(size),int(size)), interpolation = cv2.INTER_NEAREST)\n",
    "            n += 1\n",
    "            outfile = out_root + str(n) + '.png'\n",
    "            cv2.imwrite(outfile, img_new)\n",
    "            if i == 2:\n",
    "                outfile = out_root + str(n) + 'flip' + '.png'\n",
    "                cv2.imwrite(outfile, np.fliplr(img_new))\n",
    "            elif i == 3:\n",
    "                outfile = out_root + str(n) + 'flip' + '.png'\n",
    "                cv2.imwrite(outfile, np.fliplr(img_new))\n",
    "                outfile = out_root + str(n) + 'rota' + '.png'\n",
    "                cv2.imwrite(outfile, np.rot90(img_new))"
   ]
  },
  {
   "cell_type": "code",
   "execution_count": 4,
   "metadata": {
    "collapsed": true
   },
   "outputs": [],
   "source": [
    "data_root = '/home/yinanw/yinan/Tensorized_CNN/Data/Magnetic-tile-defect-datasets./'\n",
    "data_root_out = '/home/yinanw/yinan/Tensorized_CNN/Data/Magnetic-tile-defect-datasets_torch_Im/'\n",
    "size = 100\n",
    "load_data_Meg_Multi(data_root, data_root_out, size)"
   ]
  },
  {
   "cell_type": "code",
   "execution_count": null,
   "metadata": {
    "collapsed": true
   },
   "outputs": [],
   "source": []
  }
 ],
 "metadata": {
  "kernelspec": {
   "display_name": "tensorflow3.6",
   "language": "python",
   "name": "tensorflow3.6"
  },
  "language_info": {
   "codemirror_mode": {
    "name": "ipython",
    "version": 3
   },
   "file_extension": ".py",
   "mimetype": "text/x-python",
   "name": "python",
   "nbconvert_exporter": "python",
   "pygments_lexer": "ipython3",
   "version": "3.6.8"
  }
 },
 "nbformat": 4,
 "nbformat_minor": 2
}
