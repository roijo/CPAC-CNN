{
 "cells": [
  {
   "cell_type": "code",
   "execution_count": null,
   "metadata": {},
   "outputs": [],
   "source": [
    "import torch\n",
    "import torchvision\n",
    "from torch import nn\n",
    "import torch.nn.functional as F\n",
    "import torch.optim as optim\n",
    "from torch.autograd import Variable as V\n",
    "import numpy as np\n",
    "np.random.seed(48)\n",
    "torch.manual_seed(48)\n",
    "from conv_decomp_torch import Conv_Decomp\n",
    "from cnn_torch import CNN_Decomp\n",
    "from cnn_torch import CNN\n",
    "\n",
    "import warnings\n",
    "warnings.filterwarnings(\"ignore\")\n",
    "import cv2\n",
    "import matplotlib.pyplot as plt\n",
    "import mnist"
   ]
  },
  {
   "cell_type": "markdown",
   "metadata": {},
   "source": [
    "# Plot feature map"
   ]
  },
  {
   "cell_type": "code",
   "execution_count": null,
   "metadata": {
    "collapsed": true
   },
   "outputs": [],
   "source": [
    "num_filters = 8\n",
    "filter_h = 3\n",
    "filter_w = 3\n",
    "image_channels = 1\n",
    "rank = 5\n",
    "\n",
    "# num_class = 10 ## used for MNIST\n",
    "# input_shape = (28,28) ## used for MNIST\n",
    "\n",
    "num_class = 6 ## used for Manufacturing data\n",
    "input_shape = (100,100) ## used for Manufacturing data\n",
    "\n",
    "devices = [torch.device(\"cuda:2\"),torch.device(\"cpu\")]\n",
    "learning_rate = 0.0001\n",
    "\n",
    "cnn_decomp = CNN_Decomp(num_filters, filter_h, filter_w, image_channels, rank, devices, num_class, input_shape)\n",
    "cnn = CNN(num_filters, filter_h, filter_w, image_channels, rank, devices, num_class, input_shape)"
   ]
  },
  {
   "cell_type": "code",
   "execution_count": null,
   "metadata": {},
   "outputs": [],
   "source": [
    "###CPAC-CNN for MNIST\n",
    "#cnnd_path = '../result/mnist_model_for_viz/model.pth'\n",
    "\n",
    "###CPAC-CNN for Manufacturing data\n",
    "cnnd_path = '../result/manu_model_for_viz/model.pth'\n",
    "\n",
    "cnn_decomp.load_state_dict(torch.load(cnnd_path))\n",
    "cnn_decomp.to(devices[0])"
   ]
  },
  {
   "cell_type": "code",
   "execution_count": null,
   "metadata": {
    "collapsed": true
   },
   "outputs": [],
   "source": [
    "cnnd_factor0 = cnn_decomp.conv1.factor0.data.cpu()\n",
    "cnnd_factor1 = cnn_decomp.conv1.factor1.data.cpu()\n",
    "cnnd_factor2 = cnn_decomp.conv1.factor2.data.cpu()\n",
    "cnnd_factor3 = cnn_decomp.conv1.factor3.data.cpu()"
   ]
  },
  {
   "cell_type": "code",
   "execution_count": null,
   "metadata": {},
   "outputs": [],
   "source": [
    "#show the value of decomposed kernel\n",
    "cnnd_factor3"
   ]
  },
  {
   "cell_type": "code",
   "execution_count": null,
   "metadata": {
    "collapsed": true
   },
   "outputs": [],
   "source": [
    "#read and show sample image from defects data\n",
    "image_name = '../../Data/Magnetic-tile-defect-datasets_torch/MT_Crack/221.png'\n",
    "train_image = cv2.imread(image_name, cv2.IMREAD_GRAYSCALE)\n",
    "train_image = torch.tensor(train_image.reshape(1,100,100)).to('cpu')\n",
    "train_image = train_image / 255.\n",
    "plt.imshow(train_image[0,:,:], cmap='gray')\n",
    "reshape_input = train_image.unfold(1, 3, 1).unfold(2, 3, 1)\n",
    "shape = reshape_input.shape\n",
    "reshape_input = reshape_input.reshape(shape[0],shape[1]*shape[2],shape[3],shape[4])#C,N,h,w\n",
    "reshape_input = reshape_input.permute(1,2,3,0).to('cpu')#N,h,w,C\n",
    "result0_list = []\n",
    "for i in range(rank):\n",
    "    result3 = torch.einsum('abcd,d->abc', reshape_input.float(), cnnd_factor3[:,i].float())\n",
    "    result2 = torch.einsum('abc,c->ab', result3, cnnd_factor2[:,i].float())\n",
    "    result1 = torch.einsum('ab,b->a', result2, cnnd_factor1[:,i].float())\n",
    "    result0 = torch.einsum('a,b->ab', result1, cnnd_factor0[:,i].float())\n",
    "    result0_list.append(result0)\n",
    "    if i == 0:\n",
    "        output = result0\n",
    "    else:\n",
    "        output += result0"
   ]
  },
  {
   "cell_type": "code",
   "execution_count": null,
   "metadata": {
    "collapsed": true
   },
   "outputs": [],
   "source": [
    "##select rank = 5 and plot the overall feature map\n",
    "plt.figure(figsize=(20,10))\n",
    "\n",
    "##output\n",
    "\n",
    "output_reshape = np.zeros((98,98,8))\n",
    "for c in range(8):\n",
    "    for i in range(98):\n",
    "        for j in range(98):\n",
    "\n",
    "            output_reshape[i,j,c] = output[i*98+j,c].float()\n",
    "    index = int(str(1)+str(8)+str(c+1))\n",
    "    plt.subplot(index)\n",
    "    plt.axis('off')\n",
    "    plt.imshow(output_reshape[:,:,c], cmap='gray')"
   ]
  },
  {
   "cell_type": "code",
   "execution_count": null,
   "metadata": {
    "collapsed": true
   },
   "outputs": [],
   "source": [
    "##plot the feature map with different r\n",
    "plt.figure(figsize=(20,10))\n",
    "\n",
    "r = 0 ## changed between 0-4\n",
    "\n",
    "result0_reshape = np.zeros((98,98,8))\n",
    "for c in range(8):\n",
    "    for i in range(98):\n",
    "        for j in range(98):\n",
    "\n",
    "            result0_reshape[i,j,c] = result0_list[r][i*98+j,c].float()\n",
    "    index = int(str(1)+str(8)+str(c+1))\n",
    "    plt.subplot(index)\n",
    "    plt.axis('off')\n",
    "    plt.imshow(result0_reshape[:,:,c], cmap='gray')"
   ]
  },
  {
   "cell_type": "code",
   "execution_count": null,
   "metadata": {
    "collapsed": true
   },
   "outputs": [],
   "source": [
    "#read and show sample image from mnist data\n",
    "train_image = torch.tensor(mnist.train_images()[2].reshape(1,28,28)).to('cpu')\n",
    "train_image = train_image / 255.\n",
    "plt.imshow(train_image[0,:,:], cmap='gray')\n",
    "reshape_input = train_image.unfold(1, 3, 1).unfold(2, 3, 1)\n",
    "shape = reshape_input.shape\n",
    "reshape_input = reshape_input.reshape(shape[0],shape[1]*shape[2],shape[3],shape[4])#C,N,h,w\n",
    "reshape_input = reshape_input.permute(1,2,3,0).to('cpu')#N,h,w,C\n",
    "result0_list = []\n",
    "for i in range(rank):\n",
    "    result3 = torch.einsum('abcd,d->abc', reshape_input.float(), cnnd_factor3[:,i].float())\n",
    "    result2 = torch.einsum('abc,c->ab', result3, cnnd_factor2[:,i].float())\n",
    "    result1 = torch.einsum('ab,b->a', result2, cnnd_factor1[:,i].float())\n",
    "    result0 = torch.einsum('a,b->ab', result1, cnnd_factor0[:,i].float())\n",
    "    result0_list.append(result0)\n",
    "    if i == 0:\n",
    "        output = result0\n",
    "    else:\n",
    "        output += result0"
   ]
  },
  {
   "cell_type": "code",
   "execution_count": null,
   "metadata": {
    "collapsed": true
   },
   "outputs": [],
   "source": [
    "##select rank = 5 and plot the overall feature map\n",
    "plt.figure(figsize=(20,10))\n",
    "\n",
    "##output\n",
    "\n",
    "output_reshape = np.zeros((26,26,8))\n",
    "for c in range(8):\n",
    "    for i in range(26):\n",
    "        for j in range(26):\n",
    "\n",
    "            output_reshape[i,j,c] = output[i*26+j,c].float()\n",
    "    index = int(str(1)+str(8)+str(c+1))\n",
    "    plt.subplot(index)\n",
    "    plt.axis('off')\n",
    "    plt.imshow(output_reshape[:,:,c], cmap='gray')"
   ]
  },
  {
   "cell_type": "code",
   "execution_count": null,
   "metadata": {
    "collapsed": true
   },
   "outputs": [],
   "source": [
    "##plot the feature map with different r\n",
    "plt.figure(figsize=(20,10))\n",
    "r = 0 ## changed between 0-4\n",
    "\n",
    "result0_reshape = np.zeros((26,26,8))\n",
    "for c in range(8):\n",
    "    for i in range(26):\n",
    "        for j in range(26):\n",
    "\n",
    "            result0_reshape[i,j,c] = result0_list[r][i*26+j,c].float()\n",
    "    index = int(str(1)+str(8)+str(c+1))\n",
    "    plt.subplot(index)\n",
    "    plt.axis('off')\n",
    "    plt.imshow(result0_reshape[:,:,c], cmap='gray')"
   ]
  }
 ],
 "metadata": {
  "kernelspec": {
   "display_name": "tensorflow3.6",
   "language": "python",
   "name": "tensorflow3.6"
  },
  "language_info": {
   "codemirror_mode": {
    "name": "ipython",
    "version": 3
   },
   "file_extension": ".py",
   "mimetype": "text/x-python",
   "name": "python",
   "nbconvert_exporter": "python",
   "pygments_lexer": "ipython3",
   "version": "3.6.8"
  }
 },
 "nbformat": 4,
 "nbformat_minor": 2
}
